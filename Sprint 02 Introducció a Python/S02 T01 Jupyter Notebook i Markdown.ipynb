{
 "cells": [
  {
   "cell_type": "markdown",
   "id": "7f351dc9",
   "metadata": {},
   "source": [
    "<h1>Nivell 1</h1>\n",
    "\n",
    "<h3>Exercici 3</h3>"
   ]
  },
  {
   "cell_type": "markdown",
   "id": "fcd9a453",
   "metadata": {},
   "source": [
    "**Prova de crear títols, llistes, canviar l’estil de la lletra o afegir imatges dins del Notebook.**"
   ]
  },
  {
   "cell_type": "markdown",
   "id": "08349eaa",
   "metadata": {},
   "source": [
    "***List1***\n",
    "+ element1\n",
    "    - subelement1\n",
    "    - subelement2\n",
    "+ element2\n",
    "+ element3"
   ]
  },
  {
   "cell_type": "markdown",
   "id": "1bfa204a",
   "metadata": {},
   "source": [
    "***List2***\n",
    "1. element1\n",
    "2. element2\n",
    "3. element3"
   ]
  },
  {
   "cell_type": "markdown",
   "id": "0565edb7",
   "metadata": {},
   "source": [
    "![logo](casey-b.png)"
   ]
  },
  {
   "cell_type": "markdown",
   "id": "9ed119ac",
   "metadata": {},
   "source": [
    "a$ + $"
   ]
  },
  {
   "cell_type": "markdown",
   "id": "9b102e2e",
   "metadata": {},
   "source": [
    "$ mathematical symbols $"
   ]
  },
  {
   "cell_type": "markdown",
   "id": "536dce58",
   "metadata": {},
   "source": [
    "+"
   ]
  },
  {
   "cell_type": "markdown",
   "id": "afdbe75b",
   "metadata": {},
   "source": [
    ":+1: :tada:"
   ]
  },
  {
   "cell_type": "code",
   "execution_count": null,
   "id": "6dfa1f28",
   "metadata": {},
   "outputs": [],
   "source": []
  }
 ],
 "metadata": {
  "kernelspec": {
   "display_name": "Python 3",
   "language": "python",
   "name": "python3"
  },
  "language_info": {
   "codemirror_mode": {
    "name": "ipython",
    "version": 3
   },
   "file_extension": ".py",
   "mimetype": "text/x-python",
   "name": "python",
   "nbconvert_exporter": "python",
   "pygments_lexer": "ipython3",
   "version": "3.8.8"
  }
 },
 "nbformat": 4,
 "nbformat_minor": 5
}
