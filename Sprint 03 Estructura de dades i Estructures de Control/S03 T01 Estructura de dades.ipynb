{
 "cells": [
  {
   "cell_type": "markdown",
   "id": "0c69c555",
   "metadata": {},
   "source": [
    "<h1>Exercici 1</h1>\n",
    "<h3>Crea una llista que agrupi mesos de l’any en trimestres </h3>"
   ]
  },
  {
   "cell_type": "code",
   "execution_count": 1,
   "id": "0c12a988",
   "metadata": {},
   "outputs": [],
   "source": [
    "MounthOfYear=[[\"Enero\", \"Febrero\",\"Marzo\"],[\"Abril\",\"Mayo\",\"Junio\"],[\"Julio\",\"Agosto\",\"Septiembre\"],[\"Octubre\", \"Noviembre\", \"Diciembre\"]]"
   ]
  },
  {
   "cell_type": "markdown",
   "id": "7ee8ecae",
   "metadata": {},
   "source": [
    "<h1>Exercici 2</h1>\n",
    "    <h3>Crea un codi que et permeti accedir a:</h3>"
   ]
  },
  {
   "cell_type": "markdown",
   "id": "4287b1b0",
   "metadata": {},
   "source": [
    "**El segon mes del primer trimestre**"
   ]
  },
  {
   "cell_type": "code",
   "execution_count": 2,
   "id": "0873ca6a",
   "metadata": {},
   "outputs": [
    {
     "name": "stdout",
     "output_type": "stream",
     "text": [
      "Febrero\n"
     ]
    }
   ],
   "source": [
    "print(MounthOfYear[0][1])"
   ]
  },
  {
   "cell_type": "markdown",
   "id": "bcbae008",
   "metadata": {},
   "source": [
    "**Els mesos del primer trimestre**"
   ]
  },
  {
   "cell_type": "code",
   "execution_count": 3,
   "id": "f2fe595e",
   "metadata": {
    "scrolled": true
   },
   "outputs": [
    {
     "name": "stdout",
     "output_type": "stream",
     "text": [
      "Enero Febrero Marzo\n"
     ]
    }
   ],
   "source": [
    "print(' '.join(MounthOfYear[0]))"
   ]
  },
  {
   "cell_type": "markdown",
   "id": "91e58e21",
   "metadata": {},
   "source": [
    "**Setembre i octubre**"
   ]
  },
  {
   "cell_type": "code",
   "execution_count": 4,
   "id": "eb011712",
   "metadata": {},
   "outputs": [
    {
     "name": "stdout",
     "output_type": "stream",
     "text": [
      "Septiembre i Octubre\n"
     ]
    }
   ],
   "source": [
    "print(MounthOfYear[2][2],\"i\",MounthOfYear[3][0] )"
   ]
  },
  {
   "cell_type": "markdown",
   "id": "f0b6a64f",
   "metadata": {},
   "source": [
    "<h1>Exercici 3</h1>\n",
    "<h3>Crea una llista amb nombres desordenats i respon a les següents preguntes:</h3>"
   ]
  },
  {
   "cell_type": "code",
   "execution_count": 5,
   "id": "969b2eac",
   "metadata": {},
   "outputs": [
    {
     "name": "stdout",
     "output_type": "stream",
     "text": [
      "[13, 13, 10, 1, 15, 17, 2, 4, 5, 4, 18]\n"
     ]
    }
   ],
   "source": [
    "from random import randrange\n",
    "n = randrange(10, 20)\n",
    "a = [randrange(1, 20) for i in range(n)]\n",
    "print(a)"
   ]
  },
  {
   "cell_type": "markdown",
   "id": "e68848be",
   "metadata": {},
   "source": [
    "**Quants números hi ha?**"
   ]
  },
  {
   "cell_type": "code",
   "execution_count": 6,
   "id": "b4f682e7",
   "metadata": {},
   "outputs": [
    {
     "data": {
      "text/plain": [
       "11"
      ]
     },
     "execution_count": 6,
     "metadata": {},
     "output_type": "execute_result"
    }
   ],
   "source": [
    "len(a)\n"
   ]
  },
  {
   "cell_type": "markdown",
   "id": "875e7b5c",
   "metadata": {},
   "source": [
    "**Quantes vegades apareix el número 3**"
   ]
  },
  {
   "cell_type": "code",
   "execution_count": 7,
   "id": "ee7cd381",
   "metadata": {},
   "outputs": [
    {
     "data": {
      "text/plain": [
       "0"
      ]
     },
     "execution_count": 7,
     "metadata": {},
     "output_type": "execute_result"
    }
   ],
   "source": [
    "a.count(3)"
   ]
  },
  {
   "cell_type": "markdown",
   "id": "e63e6910",
   "metadata": {},
   "source": [
    "**Quantes vegades apareixen els nombres 3 i 4?**"
   ]
  },
  {
   "cell_type": "code",
   "execution_count": 8,
   "id": "ed3db467",
   "metadata": {},
   "outputs": [
    {
     "data": {
      "text/plain": [
       "2"
      ]
     },
     "execution_count": 8,
     "metadata": {},
     "output_type": "execute_result"
    }
   ],
   "source": [
    "a.count(3)+a.count(4)"
   ]
  },
  {
   "cell_type": "markdown",
   "id": "09233fae",
   "metadata": {},
   "source": [
    "**Quin és el número més gran?**"
   ]
  },
  {
   "cell_type": "code",
   "execution_count": 9,
   "id": "42e842ba",
   "metadata": {},
   "outputs": [
    {
     "data": {
      "text/plain": [
       "18"
      ]
     },
     "execution_count": 9,
     "metadata": {},
     "output_type": "execute_result"
    }
   ],
   "source": [
    "max(a)"
   ]
  },
  {
   "cell_type": "markdown",
   "id": "86018533",
   "metadata": {},
   "source": [
    "**Quins són els 3 números més petits?**"
   ]
  },
  {
   "cell_type": "code",
   "execution_count": 10,
   "id": "9ef55a7d",
   "metadata": {},
   "outputs": [
    {
     "name": "stdout",
     "output_type": "stream",
     "text": [
      "1 2 4\n"
     ]
    }
   ],
   "source": [
    "a.sort()\n",
    "print(a[0],a[1],a[2])"
   ]
  },
  {
   "cell_type": "markdown",
   "id": "7e4f49c6",
   "metadata": {},
   "source": [
    "**Quin és el rang d’aquesta llista?**"
   ]
  },
  {
   "cell_type": "code",
   "execution_count": 11,
   "id": "93375637",
   "metadata": {},
   "outputs": [
    {
     "name": "stdout",
     "output_type": "stream",
     "text": [
      "[1, 2, 3, 4, 4, 6, 7, 8, 8, 10, 11]\n"
     ]
    }
   ],
   "source": [
    "a.sort(reverse = True)\n",
    "ranks = []\n",
    "for score in a:\n",
    "   ranks.append(a.index(score) + 1)\n",
    "print (ranks)"
   ]
  },
  {
   "cell_type": "markdown",
   "id": "66f90ec9",
   "metadata": {},
   "source": [
    "<h1>Exercici 4</h1>\n",
    "<h3>Crea un diccionari de la següent forma i respon a les preguntes:</h3>"
   ]
  },
  {
   "cell_type": "code",
   "execution_count": 12,
   "id": "6bfcc423",
   "metadata": {},
   "outputs": [],
   "source": [
    "compra = { \"Pomes\" : {\"Qty\": 5, \"€\": 0.42}, \"Peres\" : {\"Qty\": 3, \"€\": 0.66} }"
   ]
  },
  {
   "cell_type": "markdown",
   "id": "29816f74",
   "metadata": {},
   "source": [
    "**Afegeix alguna fruita més**"
   ]
  },
  {
   "cell_type": "code",
   "execution_count": 13,
   "id": "2d991902",
   "metadata": {
    "scrolled": true
   },
   "outputs": [],
   "source": [
    "compra.update({\"Mangos\":{\"Qty\": 2, \"€\": 1.42}}) "
   ]
  },
  {
   "cell_type": "markdown",
   "id": "1dbb8051",
   "metadata": {},
   "source": [
    "**Quant han costat les peres en total?**"
   ]
  },
  {
   "cell_type": "code",
   "execution_count": 14,
   "id": "d694d6fa",
   "metadata": {},
   "outputs": [
    {
     "data": {
      "text/plain": [
       "1.98"
      ]
     },
     "execution_count": 14,
     "metadata": {},
     "output_type": "execute_result"
    }
   ],
   "source": [
    "compra[\"Peres\"][\"Qty\"]*compra[\"Peres\"][\"€\"]"
   ]
  },
  {
   "cell_type": "markdown",
   "id": "797ef9be",
   "metadata": {},
   "source": [
    "**Quantes fruites hem comprat en total?**"
   ]
  },
  {
   "cell_type": "markdown",
   "id": "6b2e322f",
   "metadata": {},
   "source": [
    "**################ N1**"
   ]
  },
  {
   "cell_type": "code",
   "execution_count": 15,
   "id": "29c09ea9",
   "metadata": {},
   "outputs": [
    {
     "name": "stdout",
     "output_type": "stream",
     "text": [
      "10\n"
     ]
    }
   ],
   "source": [
    "import functools\n",
    "print(functools.reduce(lambda a, b: a+b, [i[\"Qty\"] for i in compra.values()]))"
   ]
  },
  {
   "cell_type": "markdown",
   "id": "615f10fd",
   "metadata": {},
   "source": [
    "**################ N2**"
   ]
  },
  {
   "cell_type": "code",
   "execution_count": 16,
   "id": "2ecc9a59",
   "metadata": {},
   "outputs": [
    {
     "name": "stdout",
     "output_type": "stream",
     "text": [
      "10\n"
     ]
    }
   ],
   "source": [
    "quantity=0\n",
    "for val in compra.items():\n",
    "   quantity+=val[1][\"Qty\"]\n",
    "print(quantity)"
   ]
  },
  {
   "cell_type": "markdown",
   "id": "5105f142",
   "metadata": {},
   "source": [
    "**Quina és la fruita més cara?**"
   ]
  },
  {
   "cell_type": "code",
   "execution_count": 17,
   "id": "99fbfd49",
   "metadata": {},
   "outputs": [
    {
     "data": {
      "text/plain": [
       "'Mangos'"
      ]
     },
     "execution_count": 17,
     "metadata": {},
     "output_type": "execute_result"
    }
   ],
   "source": [
    "v=[i[\"€\"] for i in compra.values()]\n",
    "k=list(compra.keys())\n",
    "k[v.index(max(v))]"
   ]
  },
  {
   "cell_type": "code",
   "execution_count": null,
   "id": "aa6d6d86",
   "metadata": {},
   "outputs": [],
   "source": []
  }
 ],
 "metadata": {
  "kernelspec": {
   "display_name": "Python 3",
   "language": "python",
   "name": "python3"
  },
  "language_info": {
   "codemirror_mode": {
    "name": "ipython",
    "version": 3
   },
   "file_extension": ".py",
   "mimetype": "text/x-python",
   "name": "python",
   "nbconvert_exporter": "python",
   "pygments_lexer": "ipython3",
   "version": "3.9.2"
  }
 },
 "nbformat": 4,
 "nbformat_minor": 5
}
