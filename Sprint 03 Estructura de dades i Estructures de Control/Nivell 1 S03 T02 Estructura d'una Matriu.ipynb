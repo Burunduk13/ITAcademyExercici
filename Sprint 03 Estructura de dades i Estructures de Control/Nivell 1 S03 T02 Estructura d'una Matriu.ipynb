{
 "cells": [
  {
   "cell_type": "markdown",
   "id": "2eb1392c",
   "metadata": {},
   "source": [
    "<h1>Nivell 1</h1>"
   ]
  },
  {
   "cell_type": "markdown",
   "id": "0ec2e962",
   "metadata": {},
   "source": [
    "<h2>Exercici 1</h2>\n",
    "<h3>Crea un np.array d'una dimensió, que inclogui l'almenys 8 nombres sencers, data type int64. Mostra la dimensió i la forma de la matriu. </h3>"
   ]
  },
  {
   "cell_type": "code",
   "execution_count": 20,
   "id": "9de72775",
   "metadata": {
    "scrolled": false
   },
   "outputs": [
    {
     "name": "stdout",
     "output_type": "stream",
     "text": [
      "Shape: (1, 9)\n",
      "Size: 1\n",
      "int64\n"
     ]
    }
   ],
   "source": [
    "import numpy as np\n",
    "arr = np.array([[1, 2, 3, 4, 3,5,6,7,8]], dtype='int64')\n",
    "\n",
    "print(\"Shape:\", np.shape(arr))\n",
    "print(\"Size:\", len(arr))\n",
    "print(arr.dtype) "
   ]
  },
  {
   "cell_type": "code",
   "execution_count": null,
   "id": "b9bcefcf",
   "metadata": {},
   "outputs": [],
   "source": []
  },
  {
   "cell_type": "markdown",
   "id": "34120eef",
   "metadata": {},
   "source": [
    "<h2>Exercici 2</h2>\n",
    "<h3>De la matriu de l'exercici 1, calcula el valor mitjà dels valors introduïts i resta la mitjana resultant de cada un dels valors de la matriu.</h3>"
   ]
  },
  {
   "cell_type": "code",
   "execution_count": 22,
   "id": "1841fe48",
   "metadata": {},
   "outputs": [
    {
     "data": {
      "text/plain": [
       "4.333333333333333"
      ]
     },
     "execution_count": 22,
     "metadata": {},
     "output_type": "execute_result"
    }
   ],
   "source": [
    "Media=arr.mean()\n",
    "Media"
   ]
  },
  {
   "cell_type": "markdown",
   "id": "29dbaa85",
   "metadata": {},
   "source": [
    "<h2>Exercici 3</h2>\n",
    "<h3>Crea una matriu bidimensional amb una forma de 5 x 5. Extreu el valor màxim de la matriu, i els valors màxims de cadascun dels seus eixos. </h3>"
   ]
  },
  {
   "cell_type": "code",
   "execution_count": 30,
   "id": "85f1081d",
   "metadata": {},
   "outputs": [
    {
     "name": "stdout",
     "output_type": "stream",
     "text": [
      "(1, 5, 5)\n"
     ]
    },
    {
     "data": {
      "text/plain": [
       "[array([[1, 4, 2, 4, 3],\n",
       "        [1, 3, 1, 0, 4],\n",
       "        [2, 1, 0, 1, 2],\n",
       "        [3, 3, 4, 2, 0],\n",
       "        [3, 4, 0, 4, 2]])]"
      ]
     },
     "execution_count": 30,
     "metadata": {},
     "output_type": "execute_result"
    }
   ],
   "source": [
    "import numpy as np\n",
    "arr3=[np.random.randint(5, size=(5, 5))]\n",
    "#np.random.random((5,5))\n",
    "print (np.shape(arr3))\n",
    "arr3"
   ]
  },
  {
   "cell_type": "code",
   "execution_count": null,
   "id": "e021ae7d",
   "metadata": {},
   "outputs": [],
   "source": []
  },
  {
   "cell_type": "markdown",
   "id": "e4e67804",
   "metadata": {},
   "source": [
    "<h1>Exercici 4</h1>\n",
    "<h3>Mostreu-me amb exemples de diferents matrius, la regla fonamental de Broadcasting que diu : \"les matrius es poden transmetre / broadcast si les seves dimensions coincideixen o si una de les matrius té una mida d'1\". </h3>"
   ]
  },
  {
   "cell_type": "code",
   "execution_count": null,
   "id": "7f2e392b",
   "metadata": {},
   "outputs": [],
   "source": []
  },
  {
   "cell_type": "markdown",
   "id": "107db655",
   "metadata": {},
   "source": [
    "<h1>Exercici 5</h1>\n",
    "<h3>Utilitza la Indexació per extreure els valors d'una columna i una fila de la matriu. I suma els seus valors. </h3>"
   ]
  },
  {
   "cell_type": "code",
   "execution_count": null,
   "id": "53fa640e",
   "metadata": {},
   "outputs": [],
   "source": []
  },
  {
   "cell_type": "markdown",
   "id": "fbb1c112",
   "metadata": {},
   "source": [
    "<h1>Exercici 6</h1>\n",
    "<h3>Mask la matriu anterior, realitzeu un càlcul booleà vectoritzat, agafant cada element i comprovant si es divideix uniformement per quatre. Això retorna una matriu de mask de la mateixa forma amb els resultats elementals del càlcul. </h3>"
   ]
  },
  {
   "cell_type": "code",
   "execution_count": null,
   "id": "2022ee96",
   "metadata": {},
   "outputs": [],
   "source": []
  },
  {
   "cell_type": "markdown",
   "id": "3b3bc872",
   "metadata": {},
   "source": [
    "<h1>Exercici 7</h1>\n",
    "<h3>A continuació, utilitzeu aquesta màscara per indexar a la matriu de números original. Això fa que la matriu perdi la seva forma original, reduint-la a una dimensió, però encara obteniu les dades que esteu cercant. </h3>"
   ]
  },
  {
   "cell_type": "code",
   "execution_count": null,
   "id": "aaee27d6",
   "metadata": {},
   "outputs": [],
   "source": []
  },
  {
   "cell_type": "code",
   "execution_count": null,
   "id": "c7361525",
   "metadata": {},
   "outputs": [],
   "source": [
    "<h1>Exercici 1</h1>\n",
    "<h3> </h3>"
   ]
  },
  {
   "cell_type": "code",
   "execution_count": null,
   "id": "5adf3d9b",
   "metadata": {},
   "outputs": [],
   "source": [
    "<h1>Exercici 1</h1>\n",
    "<h3> </h3>"
   ]
  },
  {
   "cell_type": "code",
   "execution_count": null,
   "id": "1bf79662",
   "metadata": {},
   "outputs": [],
   "source": []
  },
  {
   "cell_type": "code",
   "execution_count": null,
   "id": "73ee707b",
   "metadata": {},
   "outputs": [],
   "source": []
  },
  {
   "cell_type": "code",
   "execution_count": null,
   "id": "69dd0fdd",
   "metadata": {},
   "outputs": [],
   "source": [
    "<h1>Exercici 1</h1>\n",
    "<h3> </h3>"
   ]
  }
 ],
 "metadata": {
  "kernelspec": {
   "display_name": "Python 3",
   "language": "python",
   "name": "python3"
  },
  "language_info": {
   "codemirror_mode": {
    "name": "ipython",
    "version": 3
   },
   "file_extension": ".py",
   "mimetype": "text/x-python",
   "name": "python",
   "nbconvert_exporter": "python",
   "pygments_lexer": "ipython3",
   "version": "3.8.8"
  }
 },
 "nbformat": 4,
 "nbformat_minor": 5
}
