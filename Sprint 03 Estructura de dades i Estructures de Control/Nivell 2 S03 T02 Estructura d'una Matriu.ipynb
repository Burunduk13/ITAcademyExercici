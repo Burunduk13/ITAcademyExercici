{
 "cells": [
  {
   "cell_type": "markdown",
   "id": "48e48be7",
   "metadata": {},
   "source": [
    "<h1>Nivell 2</h1>"
   ]
  },
  {
   "cell_type": "markdown",
   "id": "e4e67804",
   "metadata": {},
   "source": [
    "<h2>Exercici 4</h2>\n",
    "<h3>Mostreu-me amb exemples de diferents matrius, la regla fonamental de Broadcasting que diu : \"les matrius es poden transmetre / broadcast si les seves dimensions coincideixen o si una de les matrius té una mida d'1\". </h3>"
   ]
  },
  {
   "cell_type": "code",
   "execution_count": null,
   "id": "7f2e392b",
   "metadata": {},
   "outputs": [],
   "source": []
  },
  {
   "cell_type": "markdown",
   "id": "107db655",
   "metadata": {},
   "source": [
    "<h2>Exercici 5</h2>\n",
    "<h3>Utilitza la Indexació per extreure els valors d'una columna i una fila de la matriu. I suma els seus valors. </h3>"
   ]
  },
  {
   "cell_type": "code",
   "execution_count": null,
   "id": "53fa640e",
   "metadata": {},
   "outputs": [],
   "source": []
  },
  {
   "cell_type": "markdown",
   "id": "fbb1c112",
   "metadata": {},
   "source": [
    "<h2>Exercici 6</h2>\n",
    "<h3>Mask la matriu anterior, realitzeu un càlcul booleà vectoritzat, agafant cada element i comprovant si es divideix uniformement per quatre. Això retorna una matriu de mask de la mateixa forma amb els resultats elementals del càlcul. </h3>"
   ]
  },
  {
   "cell_type": "code",
   "execution_count": null,
   "id": "2022ee96",
   "metadata": {},
   "outputs": [],
   "source": []
  },
  {
   "cell_type": "markdown",
   "id": "3b3bc872",
   "metadata": {},
   "source": [
    "<h2>Exercici 7</h2>\n",
    "<h3>A continuació, utilitzeu aquesta màscara per indexar a la matriu de números original. Això fa que la matriu perdi la seva forma original, reduint-la a una dimensió, però encara obteniu les dades que esteu cercant. </h3>"
   ]
  },
  {
   "cell_type": "code",
   "execution_count": null,
   "id": "aaee27d6",
   "metadata": {},
   "outputs": [],
   "source": []
  },
  {
   "cell_type": "markdown",
   "id": "272978c8",
   "metadata": {},
   "source": [
    "<h2>Exercici 1</h2>\n",
    "<h3> </h3>"
   ]
  }
 ],
 "metadata": {
  "kernelspec": {
   "display_name": "Python 3",
   "language": "python",
   "name": "python3"
  },
  "language_info": {
   "codemirror_mode": {
    "name": "ipython",
    "version": 3
   },
   "file_extension": ".py",
   "mimetype": "text/x-python",
   "name": "python",
   "nbconvert_exporter": "python",
   "pygments_lexer": "ipython3",
   "version": "3.8.8"
  }
 },
 "nbformat": 4,
 "nbformat_minor": 5
}
